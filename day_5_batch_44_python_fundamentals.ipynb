{
 "cells": [
  {
   "cell_type": "code",
   "execution_count": null,
   "metadata": {},
   "outputs": [],
   "source": [
    "#continious with lists"
   ]
  },
  {
   "cell_type": "code",
   "execution_count": 1,
   "metadata": {},
   "outputs": [
    {
     "name": "stdout",
     "output_type": "stream",
     "text": [
      "['ranga', 'venkat', 'vijaya', 'khatija', 'swetha', 'kiran', 'abdul']\n"
     ]
    }
   ],
   "source": [
    "students=['ranga','venkat','vijaya','khatija','swetha','kiran','abdul']\n",
    "print(students)"
   ]
  },
  {
   "cell_type": "code",
   "execution_count": 2,
   "metadata": {},
   "outputs": [
    {
     "data": {
      "text/plain": [
       "list"
      ]
     },
     "execution_count": 2,
     "metadata": {},
     "output_type": "execute_result"
    }
   ],
   "source": [
    "type(students)"
   ]
  },
  {
   "cell_type": "code",
   "execution_count": null,
   "metadata": {},
   "outputs": [],
   "source": [
    "#req:want to appereciate the above students"
   ]
  },
  {
   "cell_type": "code",
   "execution_count": 3,
   "metadata": {},
   "outputs": [
    {
     "name": "stdout",
     "output_type": "stream",
     "text": [
      "keep it up the good work,Ranga\n"
     ]
    }
   ],
   "source": [
    "message=f\"keep it up the good work,{students[0].title()}\"\n",
    "print(message)"
   ]
  },
  {
   "cell_type": "code",
   "execution_count": 8,
   "metadata": {},
   "outputs": [
    {
     "name": "stdout",
     "output_type": "stream",
     "text": [
      "['ranga', 'venkat', 'vijaya', 'khatija', 'swetha', 'kiran', 'abdul']\n"
     ]
    }
   ],
   "source": [
    "message=f\"keep it up the good work,{students[1].title()}\"\n",
    "print(students)"
   ]
  },
  {
   "cell_type": "markdown",
   "metadata": {},
   "source": []
  },
  {
   "cell_type": "code",
   "execution_count": null,
   "metadata": {},
   "outputs": [],
   "source": [
    "#introduction to for loop --understanding the looping statenments\n",
    "#general syntax for a loop"
   ]
  },
  {
   "cell_type": "code",
   "execution_count": 16,
   "metadata": {},
   "outputs": [
    {
     "name": "stdout",
     "output_type": "stream",
     "text": [
      "['vanaja', 'haritha', 'chinni', 'likith', 'hari', 'adhya']\n"
     ]
    }
   ],
   "source": [
    "students=['vanaja','haritha','chinni','likith','hari','adhya']\n",
    "print(students)"
   ]
  },
  {
   "cell_type": "code",
   "execution_count": 18,
   "metadata": {},
   "outputs": [
    {
     "name": "stdout",
     "output_type": "stream",
     "text": [
      "['vanaja', 'haritha', 'chinni', 'likith', 'hari', 'adhya']\n"
     ]
    }
   ],
   "source": [
    "x=students\n",
    "print(x)"
   ]
  },
  {
   "cell_type": "code",
   "execution_count": 21,
   "metadata": {},
   "outputs": [
    {
     "name": "stdout",
     "output_type": "stream",
     "text": [
      "keep it up the good work,Vanaja\n",
      "keep it up the good work,Haritha\n",
      "keep it up the good work,Chinni\n",
      "keep it up the good work,Likith\n",
      "keep it up the good work,Hari\n",
      "keep it up the good work,Adhya\n"
     ]
    }
   ],
   "source": [
    "for x in students:\n",
    "    print(f\"keep it up the good work,{x.title()}\")"
   ]
  },
  {
   "cell_type": "code",
   "execution_count": 23,
   "metadata": {},
   "outputs": [
    {
     "name": "stdout",
     "output_type": "stream",
     "text": [
      "keep it up the good work,Vanaja\n",
      "i will be looking forward to recive the practice file of today,Vanaja\n",
      "keep it up the good work,Haritha\n",
      "i will be looking forward to recive the practice file of today,Haritha\n",
      "keep it up the good work,Chinni\n",
      "i will be looking forward to recive the practice file of today,Chinni\n",
      "keep it up the good work,Likith\n",
      "i will be looking forward to recive the practice file of today,Likith\n",
      "keep it up the good work,Hari\n",
      "i will be looking forward to recive the practice file of today,Hari\n",
      "keep it up the good work,Adhya\n",
      "i will be looking forward to recive the practice file of today,Adhya\n"
     ]
    }
   ],
   "source": [
    "#enhancment of the code\n",
    "for x in students:\n",
    "    print(f\"keep it up the good work,{x.title()}\")\n",
    "    print(f\"i will be looking forward to recive the practice file of today,{x.title()}\")"
   ]
  },
  {
   "cell_type": "code",
   "execution_count": 33,
   "metadata": {},
   "outputs": [
    {
     "name": "stdout",
     "output_type": "stream",
     "text": [
      "keep it up the good work,Vanaja\n",
      "i wll be looking forward to recive the practice file of today,Vanaja:\n",
      "\n",
      "keep it up the good work,Haritha\n",
      "i wll be looking forward to recive the practice file of today,Haritha:\n",
      "\n",
      "keep it up the good work,Chinni\n",
      "i wll be looking forward to recive the practice file of today,Chinni:\n",
      "\n",
      "keep it up the good work,Likith\n",
      "i wll be looking forward to recive the practice file of today,Likith:\n",
      "\n",
      "keep it up the good work,Hari\n",
      "i wll be looking forward to recive the practice file of today,Hari:\n",
      "\n",
      "keep it up the good work,Adhya\n",
      "i wll be looking forward to recive the practice file of today,Adhya:\n",
      "\n"
     ]
    }
   ],
   "source": [
    "for x in students:\n",
    "    print(f\"keep it up the good work,{x.title()}\")\n",
    "    print(f\"i wll be looking forward to recive the practice file of today,{x.title()}:\\n\")"
   ]
  },
  {
   "cell_type": "code",
   "execution_count": null,
   "metadata": {},
   "outputs": [],
   "source": [
    "#introduction to range function---general syntax:range(start,stop,stepcount)\n",
    "#req:want print numbers upto 20"
   ]
  },
  {
   "cell_type": "code",
   "execution_count": 38,
   "metadata": {},
   "outputs": [
    {
     "name": "stdout",
     "output_type": "stream",
     "text": [
      "[0, 1, 2, 3, 4, 5, 6, 7, 8, 9, 10, 11, 12, 13, 14, 15, 16, 17, 18, 19]\n"
     ]
    }
   ],
   "source": [
    "numbers=list(range(0,20))\n",
    "print(numbers)"
   ]
  },
  {
   "cell_type": "code",
   "execution_count": 39,
   "metadata": {},
   "outputs": [
    {
     "name": "stdout",
     "output_type": "stream",
     "text": [
      "[2, 4, 6, 8, 10, 12, 14, 16, 18, 20, 22, 24, 26, 28]\n"
     ]
    }
   ],
   "source": [
    "#want to print list of even numbers till 30\n",
    "evennumbers=list(range(2,30,2))\n",
    "print(evennumbers)"
   ]
  },
  {
   "cell_type": "code",
   "execution_count": 42,
   "metadata": {},
   "outputs": [
    {
     "name": "stdout",
     "output_type": "stream",
     "text": [
      "[1, 3, 5, 7, 9, 11, 13, 15, 17, 19, 21, 23, 25, 27, 29]\n"
     ]
    }
   ],
   "source": [
    "#want to print odd numbers till 30\n",
    "oddnumbers=list(range(1,30,2))\n",
    "print(oddnumbers)"
   ]
  },
  {
   "cell_type": "code",
   "execution_count": null,
   "metadata": {},
   "outputs": [],
   "source": []
  }
 ],
 "metadata": {
  "kernelspec": {
   "display_name": "Python 3",
   "language": "python",
   "name": "python3"
  },
  "language_info": {
   "codemirror_mode": {
    "name": "ipython",
    "version": 3
   },
   "file_extension": ".py",
   "mimetype": "text/x-python",
   "name": "python",
   "nbconvert_exporter": "python",
   "pygments_lexer": "ipython3",
   "version": "3.8.5"
  }
 },
 "nbformat": 4,
 "nbformat_minor": 4
}
